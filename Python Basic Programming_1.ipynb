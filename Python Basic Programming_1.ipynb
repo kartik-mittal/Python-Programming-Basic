{
 "cells": [
  {
   "cell_type": "markdown",
   "metadata": {},
   "source": [
    "### Write a Python program to print \"Hello Python\"?"
   ]
  },
  {
   "cell_type": "code",
   "execution_count": 1,
   "metadata": {},
   "outputs": [
    {
     "name": "stdout",
     "output_type": "stream",
     "text": [
      "Hello Python\n"
     ]
    }
   ],
   "source": [
    "print('Hello Python')"
   ]
  },
  {
   "cell_type": "markdown",
   "metadata": {},
   "source": [
    "### Write a Python program to do arithmetical operations addition and division.?"
   ]
  },
  {
   "cell_type": "code",
   "execution_count": 8,
   "metadata": {
    "scrolled": true
   },
   "outputs": [
    {
     "name": "stdout",
     "output_type": "stream",
     "text": [
      "Enter first numbersjdj\n",
      "Input a number\n"
     ]
    }
   ],
   "source": [
    "try:\n",
    "    a=float(input('Enter first number'))\n",
    "    b=float(input('Enter second number'))\n",
    "    print(a+b)\n",
    "except:\n",
    "    print('Input a number')"
   ]
  },
  {
   "cell_type": "code",
   "execution_count": 9,
   "metadata": {
    "scrolled": true
   },
   "outputs": [
    {
     "name": "stdout",
     "output_type": "stream",
     "text": [
      "Enter first number8\n",
      "Enter second number9\n",
      "0.8888888888888888\n"
     ]
    }
   ],
   "source": [
    "try:\n",
    "    a=float(input('Enter first number'))\n",
    "    b=float(input('Enter second number'))\n",
    "    print(a/b)\n",
    "except:\n",
    "    print('Input a number')"
   ]
  },
  {
   "cell_type": "markdown",
   "metadata": {},
   "source": [
    "### Write a Python program to find the area of a triangle?"
   ]
  },
  {
   "cell_type": "code",
   "execution_count": 13,
   "metadata": {},
   "outputs": [],
   "source": [
    "def areaoftriangle(b,h):\n",
    "    '''\n",
    "    retutrns area of triangle and takes base and height as arguments\n",
    "    areaoftriangle(b,h)\n",
    "    '''\n",
    "    print('Area of triangle is' ,(b*h)/2)"
   ]
  },
  {
   "cell_type": "code",
   "execution_count": 14,
   "metadata": {},
   "outputs": [
    {
     "name": "stdout",
     "output_type": "stream",
     "text": [
      "Area of triangle is 20.0\n"
     ]
    }
   ],
   "source": [
    "areaoftriangle(10,4)"
   ]
  },
  {
   "cell_type": "markdown",
   "metadata": {},
   "source": [
    "### Write a Python program to swap two variables?"
   ]
  },
  {
   "cell_type": "code",
   "execution_count": 22,
   "metadata": {},
   "outputs": [
    {
     "name": "stdout",
     "output_type": "stream",
     "text": [
      "Enter first number 7\n",
      "Enter second number 5\n",
      "Before swap a=7,b=5\n",
      "After swap a=5,b=7\n"
     ]
    }
   ],
   "source": [
    "try:\n",
    "    a=int(input('Enter first number '))\n",
    "    b=int(input('Enter second number '))\n",
    "    print('Before swap a={},b={}'.format(a,b))\n",
    "    temp=a\n",
    "    a=b\n",
    "    b=temp\n",
    "    print('After swap a={},b={}'.format(a,b))\n",
    "except:\n",
    "    print('Enter a number')"
   ]
  },
  {
   "cell_type": "markdown",
   "metadata": {},
   "source": [
    "### Write a Python program to generate a random number?"
   ]
  },
  {
   "cell_type": "code",
   "execution_count": 13,
   "metadata": {},
   "outputs": [
    {
     "data": {
      "text/plain": [
       "1"
      ]
     },
     "execution_count": 13,
     "metadata": {},
     "output_type": "execute_result"
    }
   ],
   "source": [
    "import random\n",
    "random.randint(0,100)"
   ]
  }
 ],
 "metadata": {
  "kernelspec": {
   "display_name": "Python 3",
   "language": "python",
   "name": "python3"
  },
  "language_info": {
   "codemirror_mode": {
    "name": "ipython",
    "version": 3
   },
   "file_extension": ".py",
   "mimetype": "text/x-python",
   "name": "python",
   "nbconvert_exporter": "python",
   "pygments_lexer": "ipython3",
   "version": "3.8.3"
  }
 },
 "nbformat": 4,
 "nbformat_minor": 4
}
