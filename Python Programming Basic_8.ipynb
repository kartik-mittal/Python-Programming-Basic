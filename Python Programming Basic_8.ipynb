{
 "cells": [
  {
   "cell_type": "markdown",
   "metadata": {},
   "source": [
    "### Write a Python Program to Add Two Matrices?\n",
    "Matrices of same order can be added"
   ]
  },
  {
   "cell_type": "code",
   "execution_count": 10,
   "metadata": {},
   "outputs": [
    {
     "name": "stdout",
     "output_type": "stream",
     "text": [
      "The sum of \n",
      " [[1, 2, 5], [3, 9, 8], [5, 7, 3]] \n",
      " and \n",
      "[[-7, 4, 8], [1, 8, 3], [4, 6, -5]]\n",
      " is: \n",
      " [[-6, 6, 13], [4, 17, 11], [9, 13, -2]]\n"
     ]
    }
   ],
   "source": [
    "m1=[[1,2,5],[3,9,8],[5,7,3]]\n",
    "m2=[[-7,4,8],[1,8,3],[4,6,-5]]\n",
    "result=[[0,0,0],[0,0,0],[0,0,0]]\n",
    "for i in range(len(m1)):\n",
    "    for j in range(len(m1[i])):\n",
    "        result[i][j]=m1[i][j]+m2[i][j]\n",
    "print(\"The sum of \\n {} \\n and \\n{}\\n is: \\n {}\".format(m1,m2,result))"
   ]
  },
  {
   "cell_type": "code",
   "execution_count": 31,
   "metadata": {},
   "outputs": [
    {
     "name": "stdout",
     "output_type": "stream",
     "text": [
      "[[-6  6 13]\n",
      " [ 4 17 11]\n",
      " [ 9 13 -2]]\n"
     ]
    }
   ],
   "source": [
    "import numpy as np\n",
    "m1=np.array([[1,2,5],[3,9,8],[5,7,3]])\n",
    "m2=np.array([[-7,4,8],[1,8,3],[4,6,-5]])\n",
    "result=np.add(m1,m2)\n",
    "print(result)"
   ]
  },
  {
   "cell_type": "markdown",
   "metadata": {},
   "source": [
    "### Write a Python Program to Multiply Two Matrices?\n",
    "Two matrices of the type m x n and n x p can be multiplied i.e. no. of rows of one matrix is equal to no. of rows of another"
   ]
  },
  {
   "cell_type": "code",
   "execution_count": 14,
   "metadata": {},
   "outputs": [
    {
     "name": "stdout",
     "output_type": "stream",
     "text": [
      "[[35, 58, -19], [0, 124, 19], [-6, 98, 42]]\n"
     ]
    }
   ],
   "source": [
    "m1=[[1,2,5,4],[3,9,8,-4],[5,7,3,2]] #3x4\n",
    "m2=[[-7,4,8],[1,8,3],[4,6,-5],[5,2,-2]]  #4x3\n",
    "result=[[0,0,0],[0,0,0],[0,0,0]] #result is 3x3\n",
    "for i in range(len(m1)):\n",
    "    for j in range(len(m2[i])):\n",
    "        for k in range(len(m2)):\n",
    "            result[i][j]+=m1[i][k]*m2[k][j]\n",
    "print(result)\n"
   ]
  },
  {
   "cell_type": "code",
   "execution_count": 32,
   "metadata": {},
   "outputs": [
    {
     "name": "stdout",
     "output_type": "stream",
     "text": [
      "[[ 35  58 -19]\n",
      " [  0 124  19]\n",
      " [ -6  98  42]]\n"
     ]
    }
   ],
   "source": [
    "m1=np.array([[1,2,5,4],[3,9,8,-4],[5,7,3,2]]) #3x4\n",
    "m2=np.array([[-7,4,8],[1,8,3],[4,6,-5],[5,2,-2]])  #4x3\n",
    "result=np.dot(m1,m2)\n",
    "print(result)"
   ]
  },
  {
   "cell_type": "markdown",
   "metadata": {},
   "source": [
    "### Write a Python Program to Transpose a Matrix?"
   ]
  },
  {
   "cell_type": "code",
   "execution_count": 17,
   "metadata": {},
   "outputs": [
    {
     "name": "stdout",
     "output_type": "stream",
     "text": [
      "[[1, 3, 5], [2, 9, 7], [5, 8, 3], [4, -4, 2]]\n"
     ]
    }
   ],
   "source": [
    "m1=[[1,2,5,4],\n",
    "    [3,9,8,-4],\n",
    "    [5,7,3,2]]\n",
    "result=[[0,0,0],\n",
    "        [0,0,0],\n",
    "        [0,0,0],\n",
    "        [0,0,0]]\n",
    "for i in range(len(m1)):\n",
    "    for j in range(len(m1[i])):\n",
    "        result[j][i]=m1[i][j]\n",
    "print(result)"
   ]
  },
  {
   "cell_type": "code",
   "execution_count": 35,
   "metadata": {},
   "outputs": [
    {
     "name": "stdout",
     "output_type": "stream",
     "text": [
      "[[ 1  3  5]\n",
      " [ 2  9  7]\n",
      " [ 5  8  3]\n",
      " [ 4 -4  2]]\n"
     ]
    }
   ],
   "source": [
    "m1=np.array([[1,2,5,4],\n",
    "    [3,9,8,-4],\n",
    "    [5,7,3,2]])\n",
    "print(m1.transpose())"
   ]
  },
  {
   "cell_type": "markdown",
   "metadata": {},
   "source": [
    "### Write a Python Program to Sort Words in Alphabetic Order?"
   ]
  },
  {
   "cell_type": "code",
   "execution_count": 25,
   "metadata": {},
   "outputs": [
    {
     "name": "stdout",
     "output_type": "stream",
     "text": [
      "Enter some string: This is full stack data science assignment\n",
      "assignment\n",
      "data\n",
      "full\n",
      "is\n",
      "science\n",
      "stack\n",
      "this\n"
     ]
    }
   ],
   "source": [
    "str = input(\"Enter some string: \")\n",
    "str=str.lower()\n",
    "words = str.split()\n",
    "words.sort()\n",
    "for word in words:\n",
    "    print(word)"
   ]
  },
  {
   "cell_type": "markdown",
   "metadata": {},
   "source": [
    "### Write a Python Program to Remove Punctuation From a String?"
   ]
  },
  {
   "cell_type": "code",
   "execution_count": 28,
   "metadata": {},
   "outputs": [
    {
     "name": "stdout",
     "output_type": "stream",
     "text": [
      "Enter text to remove punctuations: Punctuations to remove !a()b-cf[]g{}g;:'gh\"\\j,<>./?@#$%^&*_~\n",
      "String after punctuations are removed is:  Punctuations to remove abcfggghj\n"
     ]
    }
   ],
   "source": [
    "punctuations = '''!()-[]{};:'\"\\,<>./?@#$%^&*_~'''\n",
    "str=input(\"Enter text to remove punctuations: \")\n",
    "str1=\"\"\n",
    "for i in str:\n",
    "    if i not in punctuations:\n",
    "        str1=str1+i\n",
    "print(\"String after punctuations are removed is: \",str1)"
   ]
  }
 ],
 "metadata": {
  "kernelspec": {
   "display_name": "Python 3",
   "language": "python",
   "name": "python3"
  },
  "language_info": {
   "codemirror_mode": {
    "name": "ipython",
    "version": 3
   },
   "file_extension": ".py",
   "mimetype": "text/x-python",
   "name": "python",
   "nbconvert_exporter": "python",
   "pygments_lexer": "ipython3",
   "version": "3.8.3"
  }
 },
 "nbformat": 4,
 "nbformat_minor": 4
}
