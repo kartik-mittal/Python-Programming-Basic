{
 "cells": [
  {
   "cell_type": "markdown",
   "metadata": {},
   "source": [
    "### Write a Python Program to Find the Factorial of a Number?"
   ]
  },
  {
   "cell_type": "code",
   "execution_count": 8,
   "metadata": {},
   "outputs": [
    {
     "name": "stdout",
     "output_type": "stream",
     "text": [
      "Enter a number to calculate factorial: 7\n",
      "Factorial of 7 is 5040\n"
     ]
    }
   ],
   "source": [
    "n=int(input('Enter a number to calculate factorial: '))\n",
    "factorial=1\n",
    "if n<0:\n",
    "    print('Negative number has no factorial')\n",
    "elif n==0:\n",
    "    print('Factorial of 0 is 1')\n",
    "else: \n",
    "    for i in range(1,n+1):\n",
    "        factorial=i*factorial\n",
    "    print('Factorial of {} is {}'.format(n,factorial))"
   ]
  },
  {
   "cell_type": "markdown",
   "metadata": {},
   "source": [
    "### Write a Python Program to Display the multiplication Table?"
   ]
  },
  {
   "cell_type": "code",
   "execution_count": 12,
   "metadata": {},
   "outputs": [
    {
     "name": "stdout",
     "output_type": "stream",
     "text": [
      "Enter number to see multiplication table: 8\n",
      "8 x 1 = 8\n",
      "8 x 2 = 16\n",
      "8 x 3 = 24\n",
      "8 x 4 = 32\n",
      "8 x 5 = 40\n",
      "8 x 6 = 48\n",
      "8 x 7 = 56\n",
      "8 x 8 = 64\n",
      "8 x 9 = 72\n",
      "8 x 10 = 80\n"
     ]
    }
   ],
   "source": [
    "n=int(input('Enter number to see multiplication table: '))\n",
    "for i in range(1,11):\n",
    "    j=i*n\n",
    "    print('{} x {} = {}'.format(n,i,j))"
   ]
  },
  {
   "cell_type": "markdown",
   "metadata": {},
   "source": [
    "### Write a Python Program to Print the Fibonacci sequence?"
   ]
  },
  {
   "cell_type": "code",
   "execution_count": 12,
   "metadata": {},
   "outputs": [
    {
     "name": "stdout",
     "output_type": "stream",
     "text": [
      "Enter number to print Fibonacci sequence: 5\n",
      "0 1 1 2 3 5 "
     ]
    }
   ],
   "source": [
    "n=int(input('Enter number to print Fibonacci sequence: '))\n",
    "f1,f2=0,1\n",
    "count=0\n",
    "if n<=0:\n",
    "    print(\"Enter positive number\")\n",
    "elif n==1:\n",
    "    print(\"Fibonacci sequence is: \",n)\n",
    "else:\n",
    "    while count<=n:\n",
    "        print(f1,end=\" \")\n",
    "        fth=f1+f2\n",
    "        #print(fth,end=\"r\")\n",
    "        f1,f2=f2,fth\n",
    "        count+=1\n",
    "        "
   ]
  },
  {
   "cell_type": "markdown",
   "metadata": {},
   "source": [
    "### Write a Python Program to Check Armstrong Number? "
   ]
  },
  {
   "cell_type": "code",
   "execution_count": 21,
   "metadata": {},
   "outputs": [
    {
     "name": "stdout",
     "output_type": "stream",
     "text": [
      "Enter number to check if Armstrong: 407\n",
      "Number entered is Armstrong number\n"
     ]
    }
   ],
   "source": [
    "n=int(input(\"Enter number to check if Armstrong: \"))\n",
    "p=len(str(n))\n",
    "temp=n\n",
    "sum=0\n",
    "while temp>0:\n",
    "    digit=temp%10\n",
    "    sum=sum+digit**p\n",
    "    temp=temp//10\n",
    "if n==sum:\n",
    "    print(\"Number entered is Armstrong number\")\n",
    "else:\n",
    "    print(\"Number is not Armstrong number\")"
   ]
  },
  {
   "cell_type": "markdown",
   "metadata": {},
   "source": [
    "### Write a Python Program to Find Armstrong Number in an Interval?"
   ]
  },
  {
   "cell_type": "code",
   "execution_count": 33,
   "metadata": {},
   "outputs": [
    {
     "name": "stdout",
     "output_type": "stream",
     "text": [
      "Enter lower limit of interval: 1000\n",
      "Enter upper limit of interval: 100000\n",
      "1634\n",
      "8208\n",
      "9474\n",
      "54748\n",
      "92727\n",
      "93084\n"
     ]
    }
   ],
   "source": [
    "lower=int(input('Enter lower limit of interval: '))\n",
    "upper=int(input('Enter upper limit of interval: '))\n",
    "for n in range(lower,upper+1):\n",
    "    p=len(str(n))\n",
    "    temp=n\n",
    "    sum=0\n",
    "    while temp>0:\n",
    "        digit=temp%10\n",
    "        sum=sum+digit**p\n",
    "        temp=temp//10\n",
    "    if n==sum:\n",
    "        print(n)\n",
    "    "
   ]
  },
  {
   "cell_type": "markdown",
   "metadata": {},
   "source": [
    "### Write a Python Program to Find the Sum of Natural Numbers?"
   ]
  },
  {
   "cell_type": "code",
   "execution_count": 31,
   "metadata": {},
   "outputs": [
    {
     "name": "stdout",
     "output_type": "stream",
     "text": [
      "Enter n for sum of first n natural numbers: 25\n",
      "325\n"
     ]
    }
   ],
   "source": [
    "n=int(input(\"Enter n for sum of first n natural numbers: \"))\n",
    "sum=0\n",
    "for i in range(1,n+1):\n",
    "    sum=sum+i\n",
    "    i+=1\n",
    "print(sum)"
   ]
  }
 ],
 "metadata": {
  "kernelspec": {
   "display_name": "Python 3",
   "language": "python",
   "name": "python3"
  },
  "language_info": {
   "codemirror_mode": {
    "name": "ipython",
    "version": 3
   },
   "file_extension": ".py",
   "mimetype": "text/x-python",
   "name": "python",
   "nbconvert_exporter": "python",
   "pygments_lexer": "ipython3",
   "version": "3.8.3"
  }
 },
 "nbformat": 4,
 "nbformat_minor": 4
}
