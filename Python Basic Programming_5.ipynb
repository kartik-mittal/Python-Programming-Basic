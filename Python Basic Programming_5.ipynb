{
 "cells": [
  {
   "cell_type": "markdown",
   "metadata": {},
   "source": [
    "### Write a Python Program to Find LCM?"
   ]
  },
  {
   "cell_type": "code",
   "execution_count": 4,
   "metadata": {},
   "outputs": [
    {
     "name": "stdout",
     "output_type": "stream",
     "text": [
      "Enter number to compute lcm 5\n",
      "Enter number to compute lcm 7\n",
      "Lcm of 5 and 7 is 35 \n"
     ]
    }
   ],
   "source": [
    "#lcm is greater than or equal to the bigger number\n",
    "def lcm_compute(x,y):\n",
    "    if x>y:\n",
    "        greater=x\n",
    "    else:\n",
    "        greater=y\n",
    "    while(True):\n",
    "        if ((greater%x==0)and(greater%y==0)):\n",
    "            lcm=greater\n",
    "            break\n",
    "        greater+=1\n",
    "    return lcm\n",
    "a=int(input('Enter number to compute lcm '))\n",
    "b=int(input('Enter number to compute lcm '))\n",
    "print('Lcm of {} and {} is {} '.format(a,b,lcm_compute(a,b)))"
   ]
  },
  {
   "cell_type": "markdown",
   "metadata": {},
   "source": [
    "### Write a Python Program to Find HCF? "
   ]
  },
  {
   "cell_type": "code",
   "execution_count": 10,
   "metadata": {},
   "outputs": [
    {
     "name": "stdout",
     "output_type": "stream",
     "text": [
      "Enter number to calculate HCF: 5\n",
      "Enter number to calculate HCF: 10\n",
      "The HCF of 5 and 10 is 5\n"
     ]
    }
   ],
   "source": [
    "#hcf is smaller than or equal to smaller number\n",
    "def hcf_compute(x,y):\n",
    "    if x<y:\n",
    "        smaller=x\n",
    "    else:\n",
    "        smaller=y\n",
    "    while(True):\n",
    "        if(x%smaller==0) and (y%smaller==0):\n",
    "            hcf=smaller\n",
    "            break\n",
    "            smaller+=1\n",
    "    return hcf\n",
    "a=int(input(\"Enter number to calculate HCF: \"))\n",
    "b=int(input(\"Enter number to calculate HCF: \"))\n",
    "print(\"The HCF of {} and {} is {}\".format(a,b,hcf_compute(a,b)))\n",
    "    "
   ]
  },
  {
   "cell_type": "markdown",
   "metadata": {},
   "source": [
    "### Write a Python Program to Convert Decimal to Binary, Octal and Hexadecimal?"
   ]
  },
  {
   "cell_type": "code",
   "execution_count": 11,
   "metadata": {},
   "outputs": [
    {
     "name": "stdout",
     "output_type": "stream",
     "text": [
      "Enter number :144\n",
      "144 in binary :  0b10010000\n",
      "144 in Octal :  0o220\n",
      "144 in Hexadecimal :  0x90\n"
     ]
    }
   ],
   "source": [
    "num=int(input(\"Enter number :\"))\n",
    "print(num, \"in binary : \", bin(num))\n",
    "print(num, \"in Octal : \", oct(num))\n",
    "print(num, \"in Hexadecimal : \",hex(num))"
   ]
  },
  {
   "cell_type": "markdown",
   "metadata": {},
   "source": [
    "### Write a Python Program To Find ASCII value of a character?"
   ]
  },
  {
   "cell_type": "code",
   "execution_count": 12,
   "metadata": {},
   "outputs": [
    {
     "name": "stdout",
     "output_type": "stream",
     "text": [
      "Enter a Charecter : x\n",
      "Ascii value of x is 120\n"
     ]
    }
   ],
   "source": [
    "str = input(\"Enter a Charecter : \")\n",
    "print(\"Ascii value of {} is {}\".format(str,ord(str)))"
   ]
  },
  {
   "cell_type": "markdown",
   "metadata": {},
   "source": [
    "### Write a Python Program to Make a Simple Calculator with 4 basic mathematical operations?"
   ]
  },
  {
   "cell_type": "code",
   "execution_count": 20,
   "metadata": {},
   "outputs": [
    {
     "name": "stdout",
     "output_type": "stream",
     "text": [
      "Enter first number: 9\n",
      "Enter second number: 8\n",
      "Enter one of the operators +,-,*,/ : *\n",
      "9 * 8 = 72\n"
     ]
    }
   ],
   "source": [
    "def calc(operation,num1,num2):\n",
    "    if operation=='+':\n",
    "        r=num1+num2\n",
    "    elif operation=='-':\n",
    "        r=num1-num2\n",
    "    elif operation=='*':\n",
    "        r=num1*num2\n",
    "    elif operation=='/':\n",
    "        r=num1/num2\n",
    "    else:\n",
    "        print('Invalid input')\n",
    "    return r\n",
    "\n",
    "n1=int(input('Enter first number: '))\n",
    "n2=int(input('Enter second number: '))\n",
    "operator=input(\"Enter one of the operators +,-,*,/ : \")\n",
    "print('{} {} {} = {}'.format(n1,operator,n2,calc(operator,n1,n2)))"
   ]
  }
 ],
 "metadata": {
  "kernelspec": {
   "display_name": "Python 3",
   "language": "python",
   "name": "python3"
  },
  "language_info": {
   "codemirror_mode": {
    "name": "ipython",
    "version": 3
   },
   "file_extension": ".py",
   "mimetype": "text/x-python",
   "name": "python",
   "nbconvert_exporter": "python",
   "pygments_lexer": "ipython3",
   "version": "3.8.3"
  }
 },
 "nbformat": 4,
 "nbformat_minor": 4
}
