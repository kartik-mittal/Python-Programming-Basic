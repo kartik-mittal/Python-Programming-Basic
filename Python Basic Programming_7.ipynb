{
 "cells": [
  {
   "cell_type": "markdown",
   "metadata": {},
   "source": [
    "### Write a Python Program to find sum of array?"
   ]
  },
  {
   "cell_type": "code",
   "execution_count": 2,
   "metadata": {},
   "outputs": [
    {
     "name": "stdout",
     "output_type": "stream",
     "text": [
      "Enter number of elements in list: 4\n",
      "Enter elements of list one by one: 5\n",
      "Enter elements of list one by one: 9\n",
      "Enter elements of list one by one: 4\n",
      "Enter elements of list one by one: 5\n",
      "[5, 9, 4, 5]\n",
      "Sum of elements of given list is  23\n"
     ]
    }
   ],
   "source": [
    "lst=[]\n",
    "n=int(input('Enter number of elements in list: '))\n",
    "for i in range(n):\n",
    "    ele=int(input('Enter elements of list one by one: '))\n",
    "    lst.append(ele)\n",
    "print(lst)\n",
    "sum=0\n",
    "for j in lst:\n",
    "    sum=j+sum\n",
    "print('Sum of elements of given list is ',sum)"
   ]
  },
  {
   "cell_type": "code",
   "execution_count": 3,
   "metadata": {},
   "outputs": [
    {
     "name": "stdout",
     "output_type": "stream",
     "text": [
      "Enter number of elements in list: 6\n",
      "Enter elements of list one by one: 5\n",
      "Enter elements of list one by one: 4\n",
      "Enter elements of list one by one: -9\n",
      "Enter elements of list one by one: 43\n",
      "Enter elements of list one by one: 44\n",
      "Enter elements of list one by one: 22\n",
      "[5, 4, -9, 43, 44, 22]\n"
     ]
    },
    {
     "ename": "TypeError",
     "evalue": "'int' object is not callable",
     "output_type": "error",
     "traceback": [
      "\u001b[1;31m---------------------------------------------------------------------------\u001b[0m",
      "\u001b[1;31mTypeError\u001b[0m                                 Traceback (most recent call last)",
      "\u001b[1;32m<ipython-input-3-e6e291bf31a3>\u001b[0m in \u001b[0;36m<module>\u001b[1;34m\u001b[0m\n\u001b[0;32m      5\u001b[0m     \u001b[0ml1\u001b[0m\u001b[1;33m.\u001b[0m\u001b[0mappend\u001b[0m\u001b[1;33m(\u001b[0m\u001b[0mele1\u001b[0m\u001b[1;33m)\u001b[0m\u001b[1;33m\u001b[0m\u001b[1;33m\u001b[0m\u001b[0m\n\u001b[0;32m      6\u001b[0m \u001b[0mprint\u001b[0m\u001b[1;33m(\u001b[0m\u001b[0ml1\u001b[0m\u001b[1;33m)\u001b[0m\u001b[1;33m\u001b[0m\u001b[1;33m\u001b[0m\u001b[0m\n\u001b[1;32m----> 7\u001b[1;33m \u001b[0mprint\u001b[0m\u001b[1;33m(\u001b[0m\u001b[1;34m'Sum of elements of given list is '\u001b[0m\u001b[1;33m,\u001b[0m\u001b[0msum\u001b[0m\u001b[1;33m(\u001b[0m\u001b[0ml1\u001b[0m\u001b[1;33m)\u001b[0m\u001b[1;33m)\u001b[0m\u001b[1;33m\u001b[0m\u001b[1;33m\u001b[0m\u001b[0m\n\u001b[0m",
      "\u001b[1;31mTypeError\u001b[0m: 'int' object is not callable"
     ]
    }
   ],
   "source": [
    "l1=[]\n",
    "n1=int(input('Enter number of elements in list: '))\n",
    "for i1 in range(n1):\n",
    "    ele1=int(input('Enter elements of list one by one: '))\n",
    "    l1.append(ele1)\n",
    "print(l1)\n",
    "print('Sum of elements of given list is ',sum(l1))"
   ]
  },
  {
   "cell_type": "markdown",
   "metadata": {},
   "source": [
    "### Write a Python Program to find largest element in an array?"
   ]
  },
  {
   "cell_type": "code",
   "execution_count": 4,
   "metadata": {},
   "outputs": [
    {
     "name": "stdout",
     "output_type": "stream",
     "text": [
      "Enter number of elements in list: 4\n",
      "Enter elements of list one by one: 55\n",
      "Enter elements of list one by one: 54\n",
      "Enter elements of list one by one: 898\n",
      "Enter elements of list one by one: 5446\n",
      "[55, 54, 898, 5446]\n",
      "Largest element of the entered list is 5446\n"
     ]
    }
   ],
   "source": [
    "lst=[]\n",
    "n=int(input('Enter number of elements in list: '))\n",
    "for i in range(n):\n",
    "    ele=int(input('Enter elements of list one by one: '))\n",
    "    lst.append(ele)\n",
    "print(lst)\n",
    "big=0\n",
    "for i in range(len(lst)):\n",
    "    if big<lst[i]:\n",
    "        big=lst[i]\n",
    "print('Largest element of the entered list is',big)"
   ]
  },
  {
   "cell_type": "code",
   "execution_count": 5,
   "metadata": {},
   "outputs": [
    {
     "name": "stdout",
     "output_type": "stream",
     "text": [
      "Enter number of elements in list: 7\n",
      "Enter elements of list one by one: 54\n",
      "Enter elements of list one by one: 5\n",
      "Enter elements of list one by one: 54\n",
      "Enter elements of list one by one: 5421\n",
      "Enter elements of list one by one: 56\n",
      "Enter elements of list one by one: 14233\n",
      "Enter elements of list one by one: 5454\n",
      "[54, 5, 54, 5421, 56, 14233, 5454]\n",
      "Largest element of the entered list is 14233\n"
     ]
    }
   ],
   "source": [
    "lst=[]\n",
    "n=int(input('Enter number of elements in list: '))\n",
    "for i in range(n):\n",
    "    ele=int(input('Enter elements of list one by one: '))\n",
    "    lst.append(ele)\n",
    "print(lst)\n",
    "print('Largest element of the entered list is',max(lst))"
   ]
  },
  {
   "cell_type": "markdown",
   "metadata": {},
   "source": [
    "### Write a Python Program for array rotation?"
   ]
  },
  {
   "cell_type": "code",
   "execution_count": 11,
   "metadata": {},
   "outputs": [
    {
     "name": "stdout",
     "output_type": "stream",
     "text": [
      "Enter number of elements in list: 4\n",
      "Enter elements of list one by one: 1\n",
      "Enter elements of list one by one: 2\n",
      "Enter elements of list one by one: 3\n",
      "Enter elements of list one by one: 4\n",
      "[1, 2, 3, 4]\n",
      "Factor by which array should be rotated: 1\n",
      "Direction to rotate the array i.e. Left/Right: right\n",
      "After right rotation [4, 1, 2, 3]\n"
     ]
    }
   ],
   "source": [
    "lst=[]\n",
    "n=int(input('Enter number of elements in list: '))\n",
    "for i in range(n):\n",
    "    ele=int(input('Enter elements of list one by one: '))\n",
    "    lst.append(ele)\n",
    "print(lst)\n",
    "d=int(input('Factor by which array should be rotated: '))\n",
    "direction=input('Direction to rotate the array i.e. Left/Right: ')\n",
    "rlst=[]\n",
    "llst=[]\n",
    "if d>n:\n",
    "    print('Size of array should be greater than rotating factor')\n",
    "else:\n",
    "    if direction.upper()==\"RIGHT\":\n",
    "        rlst[:]=lst[-d:]+lst[:n-d]\n",
    "        print('After right rotation',rlst)\n",
    "    elif direction.upper()==\"LEFT\":\n",
    "        llst[:]=lst[n-d:]+lst[:d]\n",
    "        print('After right rotation',llst)"
   ]
  },
  {
   "cell_type": "markdown",
   "metadata": {},
   "source": [
    "### Write a Python Program to Split the array and add the first part to the end?"
   ]
  },
  {
   "cell_type": "code",
   "execution_count": 15,
   "metadata": {},
   "outputs": [
    {
     "name": "stdout",
     "output_type": "stream",
     "text": [
      "Enter number of elements in list: 5\n",
      "Enter elements of list one by one: 7\n",
      "Enter elements of list one by one: 4\n",
      "Enter elements of list one by one: 5\n",
      "Enter elements of list one by one: 1\n",
      "Enter elements of list one by one: 4\n",
      "[7, 4, 5, 1, 4]\n",
      "Enter the index from which list is to be split: 2\n",
      "The new list is [5, 1, 4, 7, 4]\n"
     ]
    }
   ],
   "source": [
    "lst=[]\n",
    "n=int(input('Enter number of elements in list: '))\n",
    "for i in range(n):\n",
    "    ele=int(input('Enter elements of list one by one: '))\n",
    "    lst.append(ele)\n",
    "print(lst)\n",
    "d=int(input('Enter the index from which list is to be split: '))\n",
    "nlst=[]\n",
    "if d>n:\n",
    "    print('Index is greater than length of list')\n",
    "else:\n",
    "    for i in range(len(lst)):\n",
    "        nlst[:]=lst[d:n]+lst[:d]\n",
    "    print('The new list is',nlst)\n",
    "    "
   ]
  },
  {
   "cell_type": "markdown",
   "metadata": {},
   "source": [
    "### Write a Python Program to check if given array is Monotonic?"
   ]
  },
  {
   "cell_type": "code",
   "execution_count": 24,
   "metadata": {},
   "outputs": [
    {
     "name": "stdout",
     "output_type": "stream",
     "text": [
      "Enter number of elements in list: 4\n",
      "Enter elements of list one by one: 2\n",
      "Enter elements of list one by one: 3\n",
      "Enter elements of list one by one: 5\n",
      "Enter elements of list one by one: 6\n",
      "[2, 3, 5, 6]\n",
      "Monotonic Array\n"
     ]
    }
   ],
   "source": [
    "lst=[]\n",
    "n=int(input('Enter number of elements in list: '))\n",
    "for i in range(n):\n",
    "    ele=int(input('Enter elements of list one by one: '))\n",
    "    lst.append(ele)\n",
    "print(lst)\n",
    "\n",
    "if all(lst[i]<=lst[i+1] for i in range(len(lst)-1)) or (lst[i]>=lst[i+1] for i in range(len(lst)-1)):\n",
    "    print('Monotonic Array')\n",
    "else:\n",
    "    print('Non-Monotonic Array')"
   ]
  }
 ],
 "metadata": {
  "kernelspec": {
   "display_name": "Python 3",
   "language": "python",
   "name": "python3"
  },
  "language_info": {
   "codemirror_mode": {
    "name": "ipython",
    "version": 3
   },
   "file_extension": ".py",
   "mimetype": "text/x-python",
   "name": "python",
   "nbconvert_exporter": "python",
   "pygments_lexer": "ipython3",
   "version": "3.8.3"
  }
 },
 "nbformat": 4,
 "nbformat_minor": 4
}
