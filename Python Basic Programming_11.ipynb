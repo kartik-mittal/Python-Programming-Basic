{
 "cells": [
  {
   "cell_type": "markdown",
   "metadata": {},
   "source": [
    "#### Write a Python program to find words which are greater than given length k?"
   ]
  },
  {
   "cell_type": "code",
   "execution_count": 4,
   "metadata": {},
   "outputs": [
    {
     "name": "stdout",
     "output_type": "stream",
     "text": [
      "Enter text to find words: This is python practice question on string\n",
      "Enter the length k: 3\n",
      "The following words are greater than length 3 \n",
      "['This', 'python', 'practice', 'question', 'string']\n"
     ]
    }
   ],
   "source": [
    "def bigwords(str,k):\n",
    "    word=str.split()\n",
    "    lst=[]\n",
    "    for i in word:\n",
    "        if len(i)>k:\n",
    "            lst.append(i)\n",
    "    return(lst)\n",
    "str=input(\"Enter text to find words: \")\n",
    "k=int(input(\"Enter the length k: \"))\n",
    "print(\"The following words are greater than length {} \".format(k))\n",
    "print(bigwords(str,k))"
   ]
  },
  {
   "cell_type": "markdown",
   "metadata": {},
   "source": [
    "#### Write a Python program for removing i-th character from a string"
   ]
  },
  {
   "cell_type": "code",
   "execution_count": 7,
   "metadata": {},
   "outputs": [
    {
     "name": "stdout",
     "output_type": "stream",
     "text": [
      "Enter string: Python\n",
      "Enter the character position to be removed: 2\n",
      "Original string:  Python\n",
      "String after removing i-th character:  Pyhon\n"
     ]
    }
   ],
   "source": [
    "def removechar(str,i):\n",
    "    for j in range(len(str)):\n",
    "        if j==i:\n",
    "            str=str.replace(str[i],\"\",1)\n",
    "    return(str)\n",
    "str=input(\"Enter string: \")\n",
    "i=int(input(\"Enter the character position to be removed: \"))\n",
    "print(\"Original string: \",str)\n",
    "print(\"String after removing i-th character: \",removechar(str,i))"
   ]
  },
  {
   "cell_type": "markdown",
   "metadata": {},
   "source": [
    "#### Write a Python program to split and join a string?"
   ]
  },
  {
   "cell_type": "code",
   "execution_count": 12,
   "metadata": {},
   "outputs": [
    {
     "name": "stdout",
     "output_type": "stream",
     "text": [
      "Enter the string to split & join: This is a python program to split and join a string\n",
      "['This', 'is', 'a', 'python', 'program', 'to', 'split', 'and', 'join', 'a', 'string']\n",
      "This is a python program to split and join a string\n"
     ]
    }
   ],
   "source": [
    "str=input(\"Enter the string to split & join: \")\n",
    "split=str.split()\n",
    "print(split)\n",
    "join=\" \".join(split)\n",
    "print(join)"
   ]
  },
  {
   "cell_type": "markdown",
   "metadata": {},
   "source": [
    "#### Write a Python to check if a given string is binary string or not?"
   ]
  },
  {
   "cell_type": "code",
   "execution_count": 17,
   "metadata": {},
   "outputs": [
    {
     "name": "stdout",
     "output_type": "stream",
     "text": [
      "Enter the string to check: 0101010110110111010100001\n",
      "Binary String\n"
     ]
    }
   ],
   "source": [
    "str=input(\"Enter the string to check: \")\n",
    "for i in str:\n",
    "    if i not in '01':\n",
    "        print(\"Non-Binary String\")\n",
    "        break\n",
    "else:\n",
    "    print(\"Binary String\")"
   ]
  },
  {
   "cell_type": "markdown",
   "metadata": {},
   "source": [
    "#### Write a Python program to find uncommon words from two Strings?"
   ]
  },
  {
   "cell_type": "code",
   "execution_count": 1,
   "metadata": {},
   "outputs": [
    {
     "name": "stdout",
     "output_type": "stream",
     "text": [
      "Enter string1: my name is kartik\n",
      "Enter string2: kartik mittal\n",
      " my name is mittal\n"
     ]
    }
   ],
   "source": [
    "str1=input(\"Enter string1: \")\n",
    "str2=input(\"Enter string2: \")\n",
    "word1=str1.split()\n",
    "word2=str2.split()\n",
    "uncomm=\"\"\n",
    "for i in word1:\n",
    "    if i not in word2:\n",
    "        uncomm=uncomm+\" \"+i\n",
    "for j in word2:\n",
    "    if j not in word1:\n",
    "        uncomm=uncomm+\" \"+j\n",
    "print(uncomm)\n",
    "        "
   ]
  },
  {
   "cell_type": "markdown",
   "metadata": {},
   "source": [
    "#### Write a Python program to find all duplicate characters in string?"
   ]
  },
  {
   "cell_type": "code",
   "execution_count": 5,
   "metadata": {},
   "outputs": [
    {
     "name": "stdout",
     "output_type": "stream",
     "text": [
      "Enter string: mississippi\n",
      "['i', 's', 'p']\n"
     ]
    }
   ],
   "source": [
    "str=input(\"Enter string: \")\n",
    "dup=[]\n",
    "for i in str:\n",
    "    if str.count(i)>1:\n",
    "        if i not in dup:\n",
    "            dup.append(i)\n",
    "print(dup)"
   ]
  },
  {
   "cell_type": "markdown",
   "metadata": {},
   "source": [
    "#### Write a Python Program to check if a string contains any special character?"
   ]
  },
  {
   "cell_type": "code",
   "execution_count": 15,
   "metadata": {},
   "outputs": [
    {
     "name": "stdout",
     "output_type": "stream",
     "text": [
      "Enter string: adgh^%&$^#*(&*$%^kfhkghkg\n",
      "The string contains ['^', '%', '&', '$', '#', '*', '('] special characters\n"
     ]
    }
   ],
   "source": [
    "import string\n",
    "str=input(\"Enter string: \")\n",
    "spchar=string.punctuation\n",
    "lst=[]\n",
    "for i in str:\n",
    "    if i in spchar:\n",
    "        if i not in lst:\n",
    "            lst.append(i)\n",
    "if len(lst)>1:\n",
    "    print(\"The string contains {} special characters\".format(lst))\n",
    "else:\n",
    "    print(\"No special characters in string\")"
   ]
  }
 ],
 "metadata": {
  "kernelspec": {
   "display_name": "Python 3",
   "language": "python",
   "name": "python3"
  },
  "language_info": {
   "codemirror_mode": {
    "name": "ipython",
    "version": 3
   },
   "file_extension": ".py",
   "mimetype": "text/x-python",
   "name": "python",
   "nbconvert_exporter": "python",
   "pygments_lexer": "ipython3",
   "version": "3.8.3"
  }
 },
 "nbformat": 4,
 "nbformat_minor": 4
}
