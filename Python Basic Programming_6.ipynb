{
 "cells": [
  {
   "cell_type": "markdown",
   "metadata": {},
   "source": [
    "### Write a Python Program to Display Fibonacci Sequence Using Recursion?"
   ]
  },
  {
   "cell_type": "code",
   "execution_count": 1,
   "metadata": {},
   "outputs": [
    {
     "name": "stdout",
     "output_type": "stream",
     "text": [
      "Enter number to generate Fibonacci sequence: 10\n",
      "1 1 2 3 5 8 13 21 34 55 "
     ]
    }
   ],
   "source": [
    "def fib(n):\n",
    "    if n<=1:\n",
    "        return 1\n",
    "    else:\n",
    "        return fib(n-1)+fib(n-2)\n",
    "x=int(input(\"Enter number to generate Fibonacci sequence: \"))\n",
    "if x<=0:\n",
    "    print('Enter positive number')\n",
    "if x>=1:\n",
    "    for i in range(x):\n",
    "        print(fib(i),end=\" \")"
   ]
  },
  {
   "cell_type": "markdown",
   "metadata": {},
   "source": [
    "### Write a Python Program to Find Factorial of Number Using Recursion?"
   ]
  },
  {
   "cell_type": "code",
   "execution_count": 9,
   "metadata": {},
   "outputs": [
    {
     "name": "stdout",
     "output_type": "stream",
     "text": [
      "Enter number to calculate factorial5\n",
      "Factorial of 5 is 120\n"
     ]
    }
   ],
   "source": [
    "def fact(n):\n",
    "    if n==0: \n",
    "        return 1\n",
    "    elif n==1:\n",
    "        return n\n",
    "    else:\n",
    "        return n*fact(n-1)\n",
    "x=int(input('Enter number to calculate factorial'))\n",
    "if x<0:\n",
    "    print('Invalid input')\n",
    "else:\n",
    "    print(\"Factorial of {} is {}\".format(x,fact(x)))"
   ]
  },
  {
   "cell_type": "markdown",
   "metadata": {},
   "source": [
    "#### Write a Python Program to calculate your Body Mass Index?"
   ]
  },
  {
   "cell_type": "code",
   "execution_count": 15,
   "metadata": {},
   "outputs": [
    {
     "name": "stdout",
     "output_type": "stream",
     "text": [
      "Enter weight in kg 56\n",
      "Enter height in cm 150\n",
      "BMI 24.89\n"
     ]
    }
   ],
   "source": [
    "def bmi(weight,height):\n",
    "    hm=height/100\n",
    "    return round(weight/(hm**2),2)\n",
    "w=float(input('Enter weight in kg '))\n",
    "h=float(input('Enter height in cm '))\n",
    "print('BMI',bmi(w,h))"
   ]
  },
  {
   "cell_type": "markdown",
   "metadata": {},
   "source": [
    "### Write a Python Program to calculate the natural logarithm of any number?"
   ]
  },
  {
   "cell_type": "code",
   "execution_count": 24,
   "metadata": {},
   "outputs": [
    {
     "name": "stdout",
     "output_type": "stream",
     "text": [
      "Enter number to find log 9\n",
      "Natural log of 9 is 2.1972\n"
     ]
    }
   ],
   "source": [
    "import math\n",
    "x=int(input('Enter number to find log '))\n",
    "log=round(math.log(x),4)\n",
    "print('Natural log of {} is {}'.format(x,log))"
   ]
  },
  {
   "cell_type": "markdown",
   "metadata": {},
   "source": [
    "### Write a Python Program for cube sum of first n natural numbers?"
   ]
  },
  {
   "cell_type": "code",
   "execution_count": 23,
   "metadata": {},
   "outputs": [
    {
     "name": "stdout",
     "output_type": "stream",
     "text": [
      "Enter n to find sum of cubes of first n natural numbers: 7\n",
      "Sum of cubes of first 7 natural numbers is 784\n"
     ]
    }
   ],
   "source": [
    "n=int(input('Enter n to find sum of cubes of first n natural numbers: '))\n",
    "sum=0\n",
    "for i in range(1,n+1):\n",
    "    sum=i**3+sum\n",
    "print('Sum of cubes of first {} natural numbers is {}'.format(n,sum))"
   ]
  }
 ],
 "metadata": {
  "kernelspec": {
   "display_name": "Python 3",
   "language": "python",
   "name": "python3"
  },
  "language_info": {
   "codemirror_mode": {
    "name": "ipython",
    "version": 3
   },
   "file_extension": ".py",
   "mimetype": "text/x-python",
   "name": "python",
   "nbconvert_exporter": "python",
   "pygments_lexer": "ipython3",
   "version": "3.8.3"
  }
 },
 "nbformat": 4,
 "nbformat_minor": 4
}
