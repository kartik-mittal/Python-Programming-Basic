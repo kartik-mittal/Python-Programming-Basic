{
 "cells": [
  {
   "cell_type": "markdown",
   "metadata": {},
   "source": [
    "### Write a Python program to check if the given number is a Disarium Number?"
   ]
  },
  {
   "cell_type": "code",
   "execution_count": 1,
   "metadata": {},
   "outputs": [
    {
     "name": "stdout",
     "output_type": "stream",
     "text": [
      "Enter to check whether number is Disarium: 89\n",
      "89 is Disarium number\n"
     ]
    }
   ],
   "source": [
    "def isDisarium(n):\n",
    "    d=len(str(n))\n",
    "    sum=0\n",
    "    while n>0:\n",
    "        r=n%10\n",
    "        sum=sum+r**d\n",
    "        d=d-1\n",
    "        n=n//10\n",
    "    return sum\n",
    "\n",
    "num=int(input('Enter to check whether number is Disarium: '))        \n",
    "if num==isDisarium(num):\n",
    "    print(\"{} is Disarium number\".format(num))\n",
    "else:\n",
    "    print(\"{} is not a Disarium number\".format(num))"
   ]
  },
  {
   "cell_type": "markdown",
   "metadata": {},
   "source": [
    "### Write a Python program to print all disarium numbers between 1 to 100?"
   ]
  },
  {
   "cell_type": "code",
   "execution_count": 2,
   "metadata": {},
   "outputs": [
    {
     "name": "stdout",
     "output_type": "stream",
     "text": [
      "[1, 2, 3, 4, 5, 6, 7, 8, 9, 89]\n"
     ]
    }
   ],
   "source": [
    "def isDisarium(n):\n",
    "    d=len(str(n))\n",
    "    sum=0\n",
    "    while n>0:\n",
    "        r=n%10\n",
    "        sum=sum+r**d\n",
    "        d=d-1\n",
    "        n=n//10\n",
    "    return sum\n",
    "list_disarium=[]\n",
    "for i in range(1,101):\n",
    "    if i==isDisarium(i):\n",
    "        list_disarium.append(i)\n",
    "print(list_disarium)"
   ]
  },
  {
   "cell_type": "markdown",
   "metadata": {},
   "source": [
    "### Write a Python program to check if the given number is Happy Number?"
   ]
  },
  {
   "cell_type": "code",
   "execution_count": 9,
   "metadata": {},
   "outputs": [
    {
     "name": "stdout",
     "output_type": "stream",
     "text": [
      "Enter value to check if number is happy: 82\n",
      "82 is Happy number\n"
     ]
    }
   ],
   "source": [
    "def isHappy(num):\n",
    "    r=0\n",
    "    sum=0\n",
    "    while num>0:\n",
    "        r=num%10\n",
    "        sum=sum+r*r\n",
    "        num=num//10\n",
    "    return sum\n",
    "\n",
    "n=int(input(\"Enter value to check if number is happy: \"))\n",
    "result=n\n",
    "while (result !=1 and result!=4):\n",
    "    result=isHappy(result)\n",
    "if(result==1):\n",
    "    print(\"{} is Happy number\".format(n))\n",
    "else:\n",
    "    print(\"{} is Not happy number\".format(n))"
   ]
  },
  {
   "cell_type": "markdown",
   "metadata": {},
   "source": [
    "### Write a Python program to print all happy numbers between 1 and 100?"
   ]
  },
  {
   "cell_type": "code",
   "execution_count": 18,
   "metadata": {},
   "outputs": [
    {
     "name": "stdout",
     "output_type": "stream",
     "text": [
      "Happy numbers in 1 to 100: [1, 7, 10, 13, 19, 23, 28, 31, 32, 44, 49, 68, 70, 79, 82, 86, 91, 94, 97, 100]\n"
     ]
    }
   ],
   "source": [
    "def isHappy(num):\n",
    "    r=0\n",
    "    sum=0\n",
    "    while num>0:\n",
    "        r=num%10\n",
    "        sum=sum+r*r\n",
    "        num=num//10\n",
    "    return sum\n",
    "result=i=0\n",
    "lst=[]\n",
    "for i in range(1,101):\n",
    "    result=i\n",
    "    while (result !=1 and result!=4):\n",
    "        result=isHappy(result)\n",
    "    if(result==1):\n",
    "        lst.append(i)\n",
    "print(\"Happy numbers in 1 to 100:\",lst)\n",
    "    "
   ]
  },
  {
   "cell_type": "markdown",
   "metadata": {},
   "source": [
    "### Write a Python program to determine whether the given number is a Harshad Number?"
   ]
  },
  {
   "cell_type": "code",
   "execution_count": 26,
   "metadata": {},
   "outputs": [
    {
     "name": "stdout",
     "output_type": "stream",
     "text": [
      "Enter number to check: 1729\n",
      "1729 is not Harshad number\n"
     ]
    }
   ],
   "source": [
    "def digitsum(n):\n",
    "    sumx=0\n",
    "    while (n>0):\n",
    "        r=n%10\n",
    "        sumx=sumx+r\n",
    "        n=n//10\n",
    "    return sumx\n",
    "num=int(input(\"Enter number to check: \"))\n",
    "sum1=digitsum(num)\n",
    "if num%sum==0:\n",
    "    print(\"{} is Harshad number\".format(num))\n",
    "else:\n",
    "    print(\"{} is not Harshad number\".format(num))"
   ]
  },
  {
   "cell_type": "markdown",
   "metadata": {},
   "source": [
    "### Write a Python program to print all pronic numbers between 1 and 100?"
   ]
  },
  {
   "cell_type": "code",
   "execution_count": 39,
   "metadata": {},
   "outputs": [
    {
     "name": "stdout",
     "output_type": "stream",
     "text": [
      "Pronic numbers between 1 and 100 are:\n",
      "2 6 12 20 30 42 56 72 90 "
     ]
    }
   ],
   "source": [
    "def isPronic(n):\n",
    "    for i in range(1,n+1):\n",
    "        if n==i*(i+1):\n",
    "            return n\n",
    "        else:\n",
    "            continue\n",
    "print(\"Pronic numbers between 1 and 100 are:\")       \n",
    "for i in range(1,101):\n",
    "    if i==isPronic(i):\n",
    "        print(i,end=\" \")\n",
    "    "
   ]
  }
 ],
 "metadata": {
  "kernelspec": {
   "display_name": "Python 3",
   "language": "python",
   "name": "python3"
  },
  "language_info": {
   "codemirror_mode": {
    "name": "ipython",
    "version": 3
   },
   "file_extension": ".py",
   "mimetype": "text/x-python",
   "name": "python",
   "nbconvert_exporter": "python",
   "pygments_lexer": "ipython3",
   "version": "3.8.3"
  }
 },
 "nbformat": 4,
 "nbformat_minor": 4
}
