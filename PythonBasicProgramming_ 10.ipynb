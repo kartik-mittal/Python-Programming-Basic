{
 "cells": [
  {
   "cell_type": "markdown",
   "metadata": {},
   "source": [
    "### Write a Python program to find sum of elements in list?"
   ]
  },
  {
   "cell_type": "code",
   "execution_count": 9,
   "metadata": {},
   "outputs": [
    {
     "name": "stdout",
     "output_type": "stream",
     "text": [
      "Enter number of elements in the list: 4\n",
      "Enter elements of list one by one: 5\n",
      "Enter elements of list one by one: 554\n",
      "Enter elements of list one by one: 455\n",
      "Enter elements of list one by one: 45438\n",
      "[5, 554, 455, 45438]\n",
      "The sum of list elememts is 46452\n"
     ]
    }
   ],
   "source": [
    "n=int(input('Enter number of elements in the list: '))\n",
    "lst=[]\n",
    "for i in range(n):\n",
    "    ele=int(input('Enter elements of list one by one: '))\n",
    "    lst.append(ele)\n",
    "print(lst)\n",
    "sum=0\n",
    "for j in range(n):\n",
    "    sum+=lst[j]\n",
    "print(\"The sum of list elememts is\",sum)"
   ]
  },
  {
   "cell_type": "markdown",
   "metadata": {},
   "source": [
    "### Write a Python program to Multiply all numbers in the list?"
   ]
  },
  {
   "cell_type": "code",
   "execution_count": 10,
   "metadata": {},
   "outputs": [
    {
     "name": "stdout",
     "output_type": "stream",
     "text": [
      "Enter number of elements: 4\n",
      "Enter list elements one by one: 1\n",
      "Enter list elements one by one: 5\n",
      "Enter list elements one by one: 54\n",
      "Enter list elements one by one: 5453\n",
      "[1, 5, 54, 5453]\n",
      "The product of all list elements is 1472310\n"
     ]
    }
   ],
   "source": [
    "n=int(input('Enter number of elements: '))\n",
    "lst=[]\n",
    "for i in range(n):\n",
    "    ele=int(input('Enter list elements one by one: '))\n",
    "    lst.append(ele)\n",
    "print(lst)\n",
    "prod=1\n",
    "for i in range(len(lst)):\n",
    "    prod=prod*lst[i]\n",
    "print(\"The product of all list elements is\",prod)"
   ]
  },
  {
   "cell_type": "markdown",
   "metadata": {},
   "source": [
    "### Write a Python program to find smallest number in a list?"
   ]
  },
  {
   "cell_type": "code",
   "execution_count": 11,
   "metadata": {},
   "outputs": [
    {
     "name": "stdout",
     "output_type": "stream",
     "text": [
      "Enter number of elements in the list: 4\n",
      "Enter elements of list one by one: 5\n",
      "Enter elements of list one by one: -9\n",
      "Enter elements of list one by one: 6\n",
      "Enter elements of list one by one: -7\n",
      "[5, -9, 6, -7]\n",
      "The smallest element of the list is -9\n"
     ]
    }
   ],
   "source": [
    "n=int(input(\"Enter number of elements in the list: \"))\n",
    "lst=[]\n",
    "for i in range(n):\n",
    "    ele=int(input('Enter elements of list one by one: '))\n",
    "    lst.append(ele)\n",
    "print(lst)\n",
    "least=lst[0]\n",
    "for i in range(len(lst)):\n",
    "    if lst[i]<least:\n",
    "        least=lst[i]\n",
    "print(\"The smallest element of the list is\",least)       "
   ]
  },
  {
   "cell_type": "code",
   "execution_count": 7,
   "metadata": {},
   "outputs": [
    {
     "name": "stdout",
     "output_type": "stream",
     "text": [
      "Enter number of elements in the list: 4\n",
      "Enter elements of list one by one: 5\n",
      "Enter elements of list one by one: 6\n",
      "Enter elements of list one by one: 8\n",
      "Enter elements of list one by one: 4\n",
      "[5, 6, 8, 4]\n",
      "The smallest number is 4\n"
     ]
    }
   ],
   "source": [
    "n=int(input(\"Enter number of elements in the list: \"))\n",
    "lst=[]\n",
    "for i in range(n):\n",
    "    ele=int(input('Enter elements of list one by one: '))\n",
    "    lst.append(ele)\n",
    "print(lst)\n",
    "print('The smallest number is',min(lst))"
   ]
  },
  {
   "cell_type": "markdown",
   "metadata": {},
   "source": [
    "### Write a Python program to find largest number in a list?"
   ]
  },
  {
   "cell_type": "code",
   "execution_count": 13,
   "metadata": {},
   "outputs": [
    {
     "name": "stdout",
     "output_type": "stream",
     "text": [
      "Enter number of elements in the list: 4\n",
      "Enter elements of list one by one: 454\n",
      "Enter elements of list one by one: 443\n",
      "Enter elements of list one by one: 884\n",
      "Enter elements of list one by one: 443\n",
      "[454, 443, 884, 443]\n",
      "The biggest element of the list is 884\n"
     ]
    }
   ],
   "source": [
    "n=int(input(\"Enter number of elements in the list: \"))\n",
    "lst=[]\n",
    "for i in range(n):\n",
    "    ele=int(input('Enter elements of list one by one: '))\n",
    "    lst.append(ele)\n",
    "print(lst)\n",
    "biggest=lst[0]\n",
    "for i in range(len(lst)):\n",
    "    if biggest<lst[i]:\n",
    "        biggest=lst[i]\n",
    "print(\"The biggest element of the list is\",biggest)"
   ]
  },
  {
   "cell_type": "code",
   "execution_count": 14,
   "metadata": {},
   "outputs": [
    {
     "name": "stdout",
     "output_type": "stream",
     "text": [
      "Enter number of elements in the list: 4\n",
      "Enter elements of list one by one: 5\n",
      "Enter elements of list one by one: 56\n",
      "Enter elements of list one by one: 99\n",
      "Enter elements of list one by one: -78\n",
      "[5, 56, 99, -78]\n",
      "The maximum number in the list is 99\n"
     ]
    }
   ],
   "source": [
    "n=int(input(\"Enter number of elements in the list: \"))\n",
    "lst=[]\n",
    "for i in range(n):\n",
    "    ele=int(input('Enter elements of list one by one: '))\n",
    "    lst.append(ele)\n",
    "print(lst)\n",
    "print(\"The maximum number in the list is\",max(lst))"
   ]
  },
  {
   "cell_type": "markdown",
   "metadata": {},
   "source": [
    "### Write a Python program to find second largest number in a list?"
   ]
  },
  {
   "cell_type": "code",
   "execution_count": 29,
   "metadata": {
    "scrolled": true
   },
   "outputs": [
    {
     "name": "stdout",
     "output_type": "stream",
     "text": [
      "Enter number of elements in the list: 5\n",
      "Enter elements of list one by one: 9\n",
      "Enter elements of list one by one: 7\n",
      "Enter elements of list one by one: 8\n",
      "Enter elements of list one by one: 11\n",
      "Enter elements of list one by one: 1\n",
      "[9, 7, 8, 11, 1]\n",
      "The second largest element is: 9\n"
     ]
    }
   ],
   "source": [
    "n=int(input(\"Enter number of elements in the list: \"))\n",
    "lst=[]\n",
    "for i in range(n):\n",
    "    ele=int(input('Enter elements of list one by one: '))\n",
    "    lst.append(ele)\n",
    "print(lst)\n",
    "lst.sort()\n",
    "print(\"The second largest element is:\",lst[-2])"
   ]
  },
  {
   "cell_type": "markdown",
   "metadata": {},
   "source": [
    "### Write a Python program to find N largest elements from a list?"
   ]
  },
  {
   "cell_type": "code",
   "execution_count": 31,
   "metadata": {},
   "outputs": [
    {
     "name": "stdout",
     "output_type": "stream",
     "text": [
      "Enter number of elements in the list: 5\n",
      "Enter elements of list one by one: 9\n",
      "Enter elements of list one by one: 1\n",
      "Enter elements of list one by one: 12\n",
      "Enter elements of list one by one: 3\n",
      "Enter elements of list one by one: 4\n",
      "[9, 1, 12, 3, 4]\n",
      "Enter value of N: 3\n",
      "3 largest elements from the list are:[4, 9, 12] \n"
     ]
    }
   ],
   "source": [
    "x=int(input(\"Enter number of elements in the list: \"))\n",
    "lst=[]\n",
    "for i in range(x):\n",
    "    ele=int(input('Enter elements of list one by one: '))\n",
    "    lst.append(ele)\n",
    "print(lst)\n",
    "N=int(input(\"Enter value of N: \"))\n",
    "lst.sort()\n",
    "if N>x:\n",
    "    print('Invalid Input')\n",
    "else:\n",
    "    print('{} largest elements from the list are:{} '.format(N,lst[-N:]))"
   ]
  },
  {
   "cell_type": "markdown",
   "metadata": {},
   "source": [
    "### Write a Python program to print even numbers in a list?"
   ]
  },
  {
   "cell_type": "code",
   "execution_count": 32,
   "metadata": {},
   "outputs": [
    {
     "name": "stdout",
     "output_type": "stream",
     "text": [
      "Enter number of elements in the list: 5\n",
      "Enter elements of list one by one: 4\n",
      "Enter elements of list one by one: 9\n",
      "Enter elements of list one by one: 6\n",
      "Enter elements of list one by one: 8\n",
      "Enter elements of list one by one: 7\n",
      "[4, 9, 6, 8, 7]\n",
      "The even numbers in list are [4, 6, 8]\n"
     ]
    }
   ],
   "source": [
    "x=int(input(\"Enter number of elements in the list: \"))\n",
    "lst=[]\n",
    "for i in range(x):\n",
    "    ele=int(input('Enter elements of list one by one: '))\n",
    "    lst.append(ele)\n",
    "print(lst)\n",
    "even=[]\n",
    "for i in range(len(lst)):\n",
    "    if lst[i]%2==0:\n",
    "        even.append(lst[i])\n",
    "print(\"The even numbers in list are\",even)"
   ]
  },
  {
   "cell_type": "markdown",
   "metadata": {},
   "source": [
    "### Write a Python program to print odd numbers in a list?"
   ]
  },
  {
   "cell_type": "code",
   "execution_count": 34,
   "metadata": {},
   "outputs": [
    {
     "name": "stdout",
     "output_type": "stream",
     "text": [
      "Enter number of elements in the list: 5\n",
      "Enter elements of list one by one: 1\n",
      "Enter elements of list one by one: 9\n",
      "Enter elements of list one by one: 6\n",
      "Enter elements of list one by one: 4\n",
      "Enter elements of list one by one: 8\n",
      "[1, 9, 6, 4, 8]\n",
      "The odd numbers in list are [1, 9]\n"
     ]
    }
   ],
   "source": [
    "x=int(input(\"Enter number of elements in the list: \"))\n",
    "lst=[]\n",
    "for i in range(x):\n",
    "    ele=int(input('Enter elements of list one by one: '))\n",
    "    lst.append(ele)\n",
    "print(lst)\n",
    "odd=[]\n",
    "for i in range(len(lst)):\n",
    "    if lst[i]%2!=0:\n",
    "        odd.append(lst[i])\n",
    "print(\"The odd numbers in list are\",odd)"
   ]
  },
  {
   "cell_type": "markdown",
   "metadata": {},
   "source": [
    "### Write a Python program to Remove empty List from List?"
   ]
  },
  {
   "cell_type": "code",
   "execution_count": 35,
   "metadata": {},
   "outputs": [
    {
     "name": "stdout",
     "output_type": "stream",
     "text": [
      "The list is [2, 3, [], 5, [], 6, 8, 0, []]\n",
      "The list after removing empty lists is [2, 3, 5, 6, 8, 0]\n"
     ]
    }
   ],
   "source": [
    "lst=[2,3,[],5,[],6,8,0,[]]\n",
    "print(\"The list is\",lst)\n",
    "clean_lst=[i for i in lst if i!=[]]\n",
    "print('The list after removing empty lists is',clean_lst)"
   ]
  },
  {
   "cell_type": "markdown",
   "metadata": {},
   "source": [
    "### Write a Python program to Cloning or Copying a list?"
   ]
  },
  {
   "cell_type": "code",
   "execution_count": 40,
   "metadata": {},
   "outputs": [
    {
     "name": "stdout",
     "output_type": "stream",
     "text": [
      "Enter number of elements in the list: 5\n",
      "Enter elements of list one by one: 1\n",
      "Enter elements of list one by one: 9\n",
      "Enter elements of list one by one: -6\n",
      "Enter elements of list one by one: 4\n",
      "Enter elements of list one by one: 7\n",
      "The original list is: [1, 9, -6, 4, 7]\n",
      "Copy of list by lst[:] method: [1, 9, -6, 4, 7]\n",
      "Copy of list by list.copy() method: [1, 9, -6, 4, 7]\n",
      "Copy of list by list comprehension method: [1, 9, -6, 4, 7]\n",
      "Copy of list by list.append() method: [1, 9, -6, 4, 7]\n"
     ]
    }
   ],
   "source": [
    "x=int(input(\"Enter number of elements in the list: \"))\n",
    "lst=[]\n",
    "for i in range(x):\n",
    "    ele=int(input('Enter elements of list one by one: '))\n",
    "    lst.append(ele)\n",
    "print(\"The original list is:\",lst)\n",
    "\n",
    "lst1=lst[:]\n",
    "print(\"Copy of list by lst[:] method:\",lst1)\n",
    "lst2=lst.copy()\n",
    "print(\"Copy of list by list.copy() method:\",lst2)\n",
    "lst3=[i for i in lst]\n",
    "print(\"Copy of list by list comprehension method:\",lst3)\n",
    "lst4=[]\n",
    "for i in lst:\n",
    "    lst4.append(i)\n",
    "print(\"Copy of list by list.append() method:\",lst4)"
   ]
  },
  {
   "cell_type": "markdown",
   "metadata": {},
   "source": [
    "### Write a Python program to Count occurrences of an element in a list?"
   ]
  },
  {
   "cell_type": "code",
   "execution_count": 43,
   "metadata": {},
   "outputs": [
    {
     "name": "stdout",
     "output_type": "stream",
     "text": [
      "Enter number of elements in the list: 5\n",
      "Enter elements of list one by one: 8\n",
      "Enter elements of list one by one: 9\n",
      "Enter elements of list one by one: 8\n",
      "Enter elements of list one by one: 7\n",
      "Enter elements of list one by one: 8\n",
      "The original list is: [8, 9, 8, 7, 8]\n",
      "Enter the value to count its number of occurences: 8\n",
      "8 occurs 3 times in the list\n"
     ]
    }
   ],
   "source": [
    "x=int(input(\"Enter number of elements in the list: \"))\n",
    "lst=[]\n",
    "for i in range(x):\n",
    "    ele=int(input('Enter elements of list one by one: '))\n",
    "    lst.append(ele)\n",
    "print(\"The original list is:\",lst)\n",
    "a=int(input(\"Enter the value to count its number of occurences: \"))\n",
    "print('{} occurs {} times in the list'.format(a,lst.count(a)))"
   ]
  }
 ],
 "metadata": {
  "kernelspec": {
   "display_name": "Python 3",
   "language": "python",
   "name": "python3"
  },
  "language_info": {
   "codemirror_mode": {
    "name": "ipython",
    "version": 3
   },
   "file_extension": ".py",
   "mimetype": "text/x-python",
   "name": "python",
   "nbconvert_exporter": "python",
   "pygments_lexer": "ipython3",
   "version": "3.8.3"
  }
 },
 "nbformat": 4,
 "nbformat_minor": 4
}
