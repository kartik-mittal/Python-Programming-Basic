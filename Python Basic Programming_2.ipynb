{
 "cells": [
  {
   "cell_type": "markdown",
   "metadata": {},
   "source": [
    "### Write a Python program to convert kilometers to miles?"
   ]
  },
  {
   "cell_type": "code",
   "execution_count": 3,
   "metadata": {},
   "outputs": [
    {
     "name": "stdout",
     "output_type": "stream",
     "text": [
      "Enter distance in kilometers 7\n",
      "7.0 kilometers is equal to 4.349597 miles\n"
     ]
    }
   ],
   "source": [
    "try:\n",
    "    km=float(input('Enter distance in kilometers '))\n",
    "    ratio=0.621371\n",
    "    miles=ratio*km\n",
    "    print('{} kilometers is equal to {} miles'.format(km,miles))\n",
    "except:\n",
    "    print('Enter value in km')"
   ]
  },
  {
   "cell_type": "markdown",
   "metadata": {},
   "source": [
    "### Write a Python program to convert Celsius to Fahrenheit?"
   ]
  },
  {
   "cell_type": "code",
   "execution_count": 8,
   "metadata": {},
   "outputs": [
    {
     "name": "stdout",
     "output_type": "stream",
     "text": [
      "Enter temperature in celsius 56\n",
      "56.0 degree celsius is equal to 132.8 degree fahrenheit\n"
     ]
    }
   ],
   "source": [
    "try:\n",
    "    cel=float(input('Enter temperature in celsius '))\n",
    "    far=(9/5)*cel+32\n",
    "    print('{} degree celsius is equal to {} degree fahrenheit'.format(cel,far))\n",
    "except:\n",
    "    print('Enter temperature value')"
   ]
  },
  {
   "cell_type": "markdown",
   "metadata": {},
   "source": [
    "### Write a Python program to display calendar?"
   ]
  },
  {
   "cell_type": "code",
   "execution_count": 18,
   "metadata": {},
   "outputs": [
    {
     "name": "stdout",
     "output_type": "stream",
     "text": [
      "Enter year in yyyy 2001\n",
      "Enter month in mm 06\n",
      "Calendar of 6/2001 is \n",
      "     June 2001\n",
      "Mo Tu We Th Fr Sa Su\n",
      "             1  2  3\n",
      " 4  5  6  7  8  9 10\n",
      "11 12 13 14 15 16 17\n",
      "18 19 20 21 22 23 24\n",
      "25 26 27 28 29 30\n",
      "\n"
     ]
    }
   ],
   "source": [
    "import calendar\n",
    "try:\n",
    "    year=int(input('Enter year in yyyy '))\n",
    "    month=int(input('Enter month in mm '))\n",
    "    print('Calendar of {}/{} is '.format(month,year))\n",
    "    print(calendar.month(year,month))\n",
    "except:\n",
    "    print('Enter month and year in range')"
   ]
  },
  {
   "cell_type": "markdown",
   "metadata": {},
   "source": [
    "### Write a Python program to solve quadratic equation?"
   ]
  },
  {
   "cell_type": "code",
   "execution_count": 19,
   "metadata": {},
   "outputs": [
    {
     "name": "stdout",
     "output_type": "stream",
     "text": [
      "Enter coefficient of x square:- 8\n",
      "Enter coefficient of x:- 9\n",
      "Enter constant term:- 2\n",
      "The roots of QE are (-19.507577497529358+0j) and (-52.492422502470646+0j)\n"
     ]
    }
   ],
   "source": [
    "a=int(input('Enter coefficient of x square:- '))\n",
    "b=int(input('Enter coefficient of x:- '))\n",
    "c=int(input('Enter constant term:- '))\n",
    "import cmath\n",
    "d=b**2-4*a*c\n",
    "r1=(-b+cmath.sqrt(d))/2*a\n",
    "r2=(-b-cmath.sqrt(d))/2*a\n",
    "print('The roots of QE are {} and {}'.format(r1,r2))"
   ]
  },
  {
   "cell_type": "markdown",
   "metadata": {},
   "source": [
    "### Write a Python program to swap two variables without temp variable?"
   ]
  },
  {
   "cell_type": "code",
   "execution_count": 22,
   "metadata": {},
   "outputs": [
    {
     "name": "stdout",
     "output_type": "stream",
     "text": [
      "Enter first number:- 8\n",
      "Enter second number:- 5\n",
      "Before swap:- 8,5\n",
      "After swap:- 5,8\n"
     ]
    }
   ],
   "source": [
    "a=int(input('Enter first number:- '))\n",
    "b=int(input('Enter second number:- '))\n",
    "print('Before swap:- {},{}'.format(a,b))\n",
    "a,b=b,a\n",
    "print('After swap:- {},{}'.format(a,b))"
   ]
  }
 ],
 "metadata": {
  "kernelspec": {
   "display_name": "Python 3",
   "language": "python",
   "name": "python3"
  },
  "language_info": {
   "codemirror_mode": {
    "name": "ipython",
    "version": 3
   },
   "file_extension": ".py",
   "mimetype": "text/x-python",
   "name": "python",
   "nbconvert_exporter": "python",
   "pygments_lexer": "ipython3",
   "version": "3.8.3"
  }
 },
 "nbformat": 4,
 "nbformat_minor": 4
}
